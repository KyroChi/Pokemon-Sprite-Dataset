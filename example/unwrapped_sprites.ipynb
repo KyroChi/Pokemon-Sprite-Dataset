{
 "cells": [
  {
   "cell_type": "markdown",
   "metadata": {},
   "source": [
    "# Demo Using the Unwrapped Sprite Datasets"
   ]
  },
  {
   "cell_type": "code",
   "execution_count": null,
   "metadata": {},
   "outputs": [],
   "source": [
    "import matplotlib.pyplot as plt\n",
    "import random\n",
    "\n",
    "from poke_sprite_dataset.datasets.gen_v_sprites import (\n",
    "    GenVUnwrappedSprites, \n",
    "    ConditionalGenVUnwrappedSprites, \n",
    "    int_to_type, \n",
    "    int_to_color\n",
    ")\n",
    "from torchvision.utils import make_grid"
   ]
  },
  {
   "cell_type": "code",
   "execution_count": null,
   "metadata": {},
   "outputs": [],
   "source": [
    "DATA_DIR = '/home/kyle/projects/pokemon_data/data'\n",
    "\n",
    "sprites_shiny = GenVUnwrappedSprites(\n",
    "    data_dir=DATA_DIR,\n",
    "    get_shiny=True,\n",
    ")\n",
    "\n",
    "sprites_no_shiny = GenVUnwrappedSprites(\n",
    "    data_dir=DATA_DIR ,\n",
    "    get_shiny=False,\n",
    ")\n",
    "\n",
    "print('Samples with Shiny:\\t', len(sprites_shiny))\n",
    "print('Samples without Shiny:\\t', len(sprites_no_shiny))"
   ]
  },
  {
   "cell_type": "code",
   "execution_count": null,
   "metadata": {},
   "outputs": [],
   "source": [
    "shiny_sample_idx = random.sample(range(len(sprites_shiny)), 16)\n",
    "no_shiny_sample_idx = random.sample(range(len(sprites_no_shiny)), 16)\n",
    "\n",
    "shiny_grid = make_grid([sprites_shiny[i][:4, :, :] for i in shiny_sample_idx], nrow=4)\n",
    "no_shiny_grid = make_grid([sprites_no_shiny[i][:4, :, :] for i in no_shiny_sample_idx], nrow=4)\n",
    "\n",
    "plt.figure(figsize=(32, 16))\n",
    "fig, axs = plt.subplots(nrows=1, ncols=2)\n",
    "axs[0].imshow(shiny_grid.permute(1, 2, 0))\n",
    "axs[0].set_title('Including Shiny')\n",
    "axs[0].axis('off')\n",
    "\n",
    "axs[1].imshow(no_shiny_grid.permute(1, 2, 0))\n",
    "axs[1].set_title('No Shiny')\n",
    "axs[1].axis('off')\n",
    "\n",
    "plt.show()"
   ]
  },
  {
   "cell_type": "markdown",
   "metadata": {},
   "source": [
    "## Conditional Dataset"
   ]
  },
  {
   "cell_type": "code",
   "execution_count": null,
   "metadata": {},
   "outputs": [],
   "source": [
    "cond_dataset = ConditionalGenVUnwrappedSprites(DATA_DIR, get_shiny=True)"
   ]
  },
  {
   "cell_type": "code",
   "execution_count": null,
   "metadata": {},
   "outputs": [],
   "source": [
    "cond_idxs = random.sample(range(len(cond_dataset)), 16)\n",
    "\n",
    "fig, axs = plt.subplots(nrows=4, ncols=4, figsize=(16, 16))\n",
    "\n",
    "for n, idx in enumerate(cond_idxs):\n",
    "    i, j = n // 4, n % 4\n",
    "\n",
    "    sprite, cond_data = cond_dataset[idx]\n",
    "\n",
    "    types = [int_to_type(t) for t in cond_data['types']]\n",
    "    color = int_to_color(cond_data['color'])\n",
    "\n",
    "    axs[i][j].imshow(sprite.permute(1, 2, 0))\n",
    "    axs[i][j].set_title(f\"{cond_data['name'].title()}. Color: {color}. Types: {types}\")\n",
    "    axs[i][j].axis('off')\n",
    "\n",
    "plt.tight_layout()\n",
    "plt.show()"
   ]
  },
  {
   "cell_type": "code",
   "execution_count": null,
   "metadata": {},
   "outputs": [],
   "source": [
    "cond_data"
   ]
  },
  {
   "cell_type": "markdown",
   "metadata": {},
   "source": [
    "# Statistical Properties\n",
    "\n",
    "Pixel art tends to have very high frequency components."
   ]
  },
  {
   "cell_type": "code",
   "execution_count": null,
   "metadata": {},
   "outputs": [],
   "source": [
    "import torch\n",
    "import numpy as np\n",
    "from pysteps.utils import spectral\n",
    "\n",
    "samples = 4\n",
    "\n",
    "plt.figure(figsize=(3 * samples, 3 * 4))\n",
    "images = []\n",
    "\n",
    "for ii in range(samples):\n",
    "    img = cond_dataset[random.randint(0, len(cond_dataset) - 1)][0]\n",
    "    plt.subplot(4, samples, ii + 1)\n",
    "    img = img.permute(1, 2, 0)\n",
    "    images.append(img)\n",
    "    plt.imshow(img.detach().cpu())\n",
    "    plt.axis('off')\n",
    "\n",
    "images = np.array([img.numpy() for img in images])\n",
    "\n",
    "for ii in range(samples):\n",
    "    spectrum = np.fft.fft2(images[ii, ..., 1])\n",
    "    spectrum = np.fft.fftshift(spectrum)\n",
    "\n",
    "    plt.subplot(4, samples, samples + ii + 1)\n",
    "    plt.imshow(np.log(np.abs(spectrum) + 1), vmin=-5, vmax=11, cmap='gray')\n",
    "    plt.axis('off')\n",
    "\n",
    "    plt.subplot(4, samples, 2 * samples + ii + 1)\n",
    "    plt.imshow(np.angle(spectrum), cmap='hsv')\n",
    "    plt.axis('off')\n",
    "\n",
    "    plt.subplot(4, samples, 3 * samples + ii + 1)\n",
    "    rapsd, freq = spectral.rapsd(images[ii, ..., 1], fft_method=np.fft, return_freq=True)\n",
    "    plt.plot(freq[1:], rapsd[1:], c='red', marker='o', markersize=3)\n",
    "    plt.xscale('log')\n",
    "    plt.yscale('log')\n",
    "    plt.xlabel('Frequency')\n",
    "    if ii == 0:\n",
    "        plt.ylabel('Power')\n",
    "    \n",
    "plt.tight_layout()\n",
    "plt.show()"
   ]
  },
  {
   "cell_type": "markdown",
   "metadata": {},
   "source": [
    "We fit the RAPSD curves as linear power laws."
   ]
  },
  {
   "cell_type": "code",
   "execution_count": null,
   "metadata": {},
   "outputs": [],
   "source": [
    "def calc_mean_log_rapsd(x, num_samples):\n",
    "  spectra = []\n",
    "  for k in range(num_samples):\n",
    "    rapsd, freq = spectral.rapsd(x[k, ...], fft_method=np.fft, return_freq=True)\n",
    "    spectra.append(rapsd)\n",
    "\n",
    "  mean_log_rapsd = np.mean(np.array([np.log(s + 1e-30) for s in spectra]), axis=0)\n",
    "  var_log_rapsd = np.var(np.array([np.log(s + 1e-30) for s in spectra]), axis=0)\n",
    "  return mean_log_rapsd, var_log_rapsd, freq"
   ]
  },
  {
   "cell_type": "code",
   "execution_count": null,
   "metadata": {},
   "outputs": [],
   "source": [
    "rapsd_samples = 2000\n",
    "rapsd_images = []\n",
    "\n",
    "for ii in range(rapsd_samples):\n",
    "    img = cond_dataset[random.randint(0, len(cond_dataset) - 1)][0]\n",
    "    img = img.permute(1, 2, 0)\n",
    "    rapsd_images.append(img)\n",
    "\n",
    "rapsd_images = np.array([img.numpy() for img in rapsd_images])\n",
    "\n",
    "mean_log_rapsd, var_log_rapsd, frequencies = calc_mean_log_rapsd(rapsd_images[..., 1], num_samples=rapsd_samples)\n",
    "std_log_rapsd = np.sqrt(var_log_rapsd)\n",
    "\n",
    "plt.figure(figsize=(8, 4))\n",
    "mean_curve = np.exp(mean_log_rapsd)[1:]\n",
    "std_curve = np.exp(mean_log_rapsd + std_log_rapsd)[1:] - mean_curve\n",
    "plt.plot(frequencies[1:], mean_curve, c='red', marker='o', markersize=3, label='Mean')\n",
    "plt.fill_between(frequencies[1:], mean_curve - std_curve, mean_curve + std_curve, color='red', alpha=0.3, label='±1 Std Dev')\n",
    "plt.xscale('log')\n",
    "plt.yscale('log')\n",
    "plt.xlabel('frequency')\n",
    "plt.ylabel('power')\n",
    "plt.legend()"
   ]
  },
  {
   "cell_type": "markdown",
   "metadata": {},
   "source": [
    "### Average RGB Variance "
   ]
  },
  {
   "cell_type": "code",
   "execution_count": null,
   "metadata": {},
   "outputs": [],
   "source": [
    "import random\n",
    "import numpy as np\n",
    "\n",
    "num_samples = 2000\n",
    "\n",
    "selected_images = []\n",
    "for _ in range(num_samples):\n",
    "    img = cond_dataset[random.randint(0, len(cond_dataset) - 1)][0]\n",
    "    img = img.permute(1, 2, 0)  # Convert from (C, H, W) to (H, W, C)\n",
    "    selected_images.append(img.numpy())\n",
    "\n",
    "selected_images = np.array(selected_images)\n",
    "\n",
    "variance_r = np.var(selected_images[..., 0])\n",
    "variance_g = np.var(selected_images[..., 1])\n",
    "variance_b = np.var(selected_images[..., 2])\n",
    "\n",
    "print(f\"Variance of R channel: {variance_r}\")\n",
    "print(f\"Variance of G channel: {variance_g}\")\n",
    "print(f\"Variance of B channel: {variance_b}\")"
   ]
  }
 ],
 "metadata": {
  "kernelspec": {
   "display_name": "blended_diffusion_2",
   "language": "python",
   "name": "python3"
  },
  "language_info": {
   "codemirror_mode": {
    "name": "ipython",
    "version": 3
   },
   "file_extension": ".py",
   "mimetype": "text/x-python",
   "name": "python",
   "nbconvert_exporter": "python",
   "pygments_lexer": "ipython3",
   "version": "3.10.14"
  }
 },
 "nbformat": 4,
 "nbformat_minor": 2
}
