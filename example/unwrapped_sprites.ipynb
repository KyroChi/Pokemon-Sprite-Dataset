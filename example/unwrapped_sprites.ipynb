{
 "cells": [
  {
   "cell_type": "markdown",
   "metadata": {},
   "source": [
    "# Demo Using the Unwrapped Sprite Datasets"
   ]
  },
  {
   "cell_type": "code",
   "execution_count": null,
   "metadata": {},
   "outputs": [],
   "source": [
    "import matplotlib.pyplot as plt\n",
    "import random\n",
    "\n",
    "from poke_sprite_dataset.datasets.gen_v_sprites import (\n",
    "    GenVUnwrappedSprites, \n",
    "    ConditionalGenVUnwrappedSprites, \n",
    "    int_to_type, \n",
    "    int_to_color\n",
    ")\n",
    "from torchvision.utils import make_grid"
   ]
  },
  {
   "cell_type": "code",
   "execution_count": null,
   "metadata": {},
   "outputs": [],
   "source": [
    "DATA_DIR = '/home/kyle/projects/pokemon_data/data'\n",
    "\n",
    "sprites_shiny = GenVUnwrappedSprites(\n",
    "    data_dir=DATA_DIR,\n",
    "    get_shiny=True,\n",
    ")\n",
    "\n",
    "sprites_no_shiny = GenVUnwrappedSprites(\n",
    "    data_dir=DATA_DIR ,\n",
    "    get_shiny=False,\n",
    ")\n",
    "\n",
    "print('Samples with Shiny:\\t', len(sprites_shiny))\n",
    "print('Samples without Shiny:\\t', len(sprites_no_shiny))"
   ]
  },
  {
   "cell_type": "code",
   "execution_count": null,
   "metadata": {},
   "outputs": [],
   "source": [
    "shiny_sample_idx = random.sample(range(len(sprites_shiny)), 16)\n",
    "no_shiny_sample_idx = random.sample(range(len(sprites_no_shiny)), 16)\n",
    "\n",
    "shiny_grid = make_grid([sprites_shiny[i][:4, :, :] for i in shiny_sample_idx], nrow=4)\n",
    "no_shiny_grid = make_grid([sprites_no_shiny[i][:4, :, :] for i in no_shiny_sample_idx], nrow=4)\n",
    "\n",
    "plt.figure(figsize=(32, 16))\n",
    "fig, axs = plt.subplots(nrows=1, ncols=2)\n",
    "axs[0].imshow(shiny_grid.permute(1, 2, 0))\n",
    "axs[0].set_title('Including Shiny')\n",
    "axs[0].axis('off')\n",
    "\n",
    "axs[1].imshow(no_shiny_grid.permute(1, 2, 0))\n",
    "axs[1].set_title('No Shiny')\n",
    "axs[1].axis('off')\n",
    "\n",
    "plt.show()"
   ]
  },
  {
   "cell_type": "markdown",
   "metadata": {},
   "source": [
    "## Conditional Dataset"
   ]
  },
  {
   "cell_type": "code",
   "execution_count": null,
   "metadata": {},
   "outputs": [],
   "source": [
    "cond_dataset = ConditionalGenVUnwrappedSprites(DATA_DIR, get_shiny=True)"
   ]
  },
  {
   "cell_type": "code",
   "execution_count": null,
   "metadata": {},
   "outputs": [],
   "source": [
    "cond_idxs = random.sample(range(len(cond_dataset)), 16)\n",
    "\n",
    "fig, axs = plt.subplots(nrows=4, ncols=4, figsize=(16, 16))\n",
    "\n",
    "for n, idx in enumerate(cond_idxs):\n",
    "    i, j = n // 4, n % 4\n",
    "\n",
    "    sprite, cond_data = cond_dataset[idx]\n",
    "\n",
    "    types = [int_to_type(t) for t in cond_data['types']]\n",
    "    color = int_to_color(cond_data['color'])\n",
    "\n",
    "    axs[i][j].imshow(sprite.permute(1, 2, 0))\n",
    "    axs[i][j].set_title(f\"{cond_data['name'].title()}. Color: {color}. Types: {types}\")\n",
    "    axs[i][j].axis('off')\n",
    "\n",
    "plt.tight_layout()\n",
    "plt.show()"
   ]
  },
  {
   "cell_type": "code",
   "execution_count": null,
   "metadata": {},
   "outputs": [],
   "source": []
  }
 ],
 "metadata": {
  "kernelspec": {
   "display_name": "blended_diffusion_2",
   "language": "python",
   "name": "python3"
  },
  "language_info": {
   "codemirror_mode": {
    "name": "ipython",
    "version": 3
   },
   "file_extension": ".py",
   "mimetype": "text/x-python",
   "name": "python",
   "nbconvert_exporter": "python",
   "pygments_lexer": "ipython3",
   "version": "3.10.14"
  }
 },
 "nbformat": 4,
 "nbformat_minor": 2
}
