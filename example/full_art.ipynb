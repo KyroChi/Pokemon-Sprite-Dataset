{
 "cells": [
  {
   "cell_type": "code",
   "execution_count": null,
   "metadata": {},
   "outputs": [],
   "source": [
    "import matplotlib.pyplot as plt\n",
    "import torch\n",
    "import torchvision.transforms as transforms\n",
    "\n",
    "from ipywidgets import interact, IntText\n",
    "\n",
    "from poke_sprite_dataset.datasets.full_art_dataset import full_art_dataset\n",
    "from poke_sprite_dataset.datasets.helpers import unwrap_embedding"
   ]
  },
  {
   "cell_type": "markdown",
   "metadata": {},
   "source": [
    "# Unconditional Full-Art Dataset"
   ]
  },
  {
   "cell_type": "code",
   "execution_count": null,
   "metadata": {},
   "outputs": [],
   "source": [
    "dataset = full_art_dataset('/home/kyle/projects/pokemon_data/data')\n",
    "\n",
    "preprocess = transforms.Compose(\n",
    "    [\n",
    "        transforms.ToTensor(),\n",
    "        transforms.Resize((250, 250), interpolation=transforms.InterpolationMode.BICUBIC),\n",
    "    ]\n",
    ")\n",
    "\n",
    "def transform(examples):\n",
    "    images = [preprocess(image.convert(\"RGBA\")) for image in examples[\"image\"]]\n",
    "    return {\"images\": images}\n",
    "\n",
    "dataset.set_transform(transform)"
   ]
  },
  {
   "cell_type": "code",
   "execution_count": null,
   "metadata": {},
   "outputs": [],
   "source": [
    "def show_image(idx: int):\n",
    "    idx = int(idx)\n",
    "    if idx < 0 or idx >= len(dataset):\n",
    "        print(f\"Index {idx} is out of bounds\")\n",
    "        idx = 0\n",
    "    image = dataset[idx][\"images\"]\n",
    "    plt.imshow(image.permute(1, 2, 0))\n",
    "    plt.axis('off')\n",
    "    plt.show()\n",
    "\n",
    "interact(show_image, idx=IntText(value=0, description='Index:'));"
   ]
  },
  {
   "cell_type": "markdown",
   "metadata": {},
   "source": [
    "# Conditional Full-Art Dataset"
   ]
  },
  {
   "cell_type": "code",
   "execution_count": null,
   "metadata": {},
   "outputs": [],
   "source": [
    "dataset = full_art_dataset('/home/kyle/projects/pokemon_data/data', conditional=True)\n",
    "\n",
    "preprocess = transforms.Compose(\n",
    "    [\n",
    "        transforms.ToTensor(),\n",
    "        transforms.Resize((250, 250), interpolation=transforms.InterpolationMode.BICUBIC),\n",
    "    ]\n",
    ")\n",
    "\n",
    "def transform(examples):\n",
    "    images = [preprocess(image.convert(\"RGBA\")) for image in examples[\"image\"]]\n",
    "    return {\"images\": images, \"condition\": examples[\"condition\"]}\n",
    "\n",
    "dataset.set_transform(transform)"
   ]
  },
  {
   "cell_type": "code",
   "execution_count": null,
   "metadata": {},
   "outputs": [],
   "source": [
    "def show_image(idx: int):\n",
    "    idx = int(idx)\n",
    "    if idx < 0 or idx >= len(dataset):\n",
    "        print(f\"Index {idx} is out of bounds\")\n",
    "        idx = 0\n",
    "    image = dataset[idx][\"images\"]\n",
    "    label = dataset[idx][\"condition\"]\n",
    "    print(label)\n",
    "    print(unwrap_embedding(label))\n",
    "    plt.imshow(image.permute(1, 2, 0))\n",
    "    plt.axis('off')\n",
    "    plt.show()\n",
    "\n",
    "print(f\"Index min 0, max {len(dataset) - 1}\")\n",
    "interact(show_image, idx=IntText(value=0, description=f'Index:'));"
   ]
  },
  {
   "cell_type": "code",
   "execution_count": null,
   "metadata": {},
   "outputs": [],
   "source": []
  }
 ],
 "metadata": {
  "kernelspec": {
   "display_name": "blended_diffusion_2",
   "language": "python",
   "name": "python3"
  },
  "language_info": {
   "codemirror_mode": {
    "name": "ipython",
    "version": 3
   },
   "file_extension": ".py",
   "mimetype": "text/x-python",
   "name": "python",
   "nbconvert_exporter": "python",
   "pygments_lexer": "ipython3",
   "version": "3.10.14"
  }
 },
 "nbformat": 4,
 "nbformat_minor": 2
}
